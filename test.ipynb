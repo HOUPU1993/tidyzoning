{
 "cells": [
  {
   "cell_type": "code",
   "execution_count": null,
   "metadata": {},
   "outputs": [
    {
     "name": "stdout",
     "output_type": "stream",
     "text": [
      "Collecting git+https://github.com/HOUPU1993/tidyzoning.git\n",
      "  Cloning https://github.com/HOUPU1993/tidyzoning.git to c:\\users\\admin\\appdata\\local\\temp\\pip-req-build-5v_cy6xp\n",
      "  Resolved https://github.com/HOUPU1993/tidyzoning.git to commit 4583def603a2594501260f72c0e9dd3999f10236\n",
      "  Preparing metadata (setup.py): started\n",
      "  Preparing metadata (setup.py): finished with status 'done'\n",
      "Note: you may need to restart the kernel to use updated packages.\n"
     ]
    },
    {
     "name": "stderr",
     "output_type": "stream",
     "text": [
      "  Running command git clone --filter=blob:none --quiet https://github.com/HOUPU1993/tidyzoning.git 'C:\\Users\\Admin\\AppData\\Local\\Temp\\pip-req-build-5v_cy6xp'\n"
     ]
    }
   ],
   "source": [
    "pip uninstall tidyzoning\n",
    "pip install git+https://github.com/HOUPU1993/tidyzoning.git"
   ]
  },
  {
   "cell_type": "code",
   "execution_count": 1,
   "metadata": {},
   "outputs": [
    {
     "name": "stdout",
     "output_type": "stream",
     "text": [
      "tidyzoning imported successfully!\n"
     ]
    }
   ],
   "source": [
    "import tidyzoning\n",
    "print(\"tidyzoning imported successfully!\")"
   ]
  },
  {
   "cell_type": "code",
   "execution_count": 2,
   "metadata": {},
   "outputs": [
    {
     "ename": "ImportError",
     "evalue": "cannot import name 'custom_formula' from 'tidyzoning' (c:\\Users\\Admin\\anaconda3\\envs\\houpu_py\\lib\\site-packages\\tidyzoning\\__init__.py)",
     "output_type": "error",
     "traceback": [
      "\u001b[1;31m---------------------------------------------------------------------------\u001b[0m",
      "\u001b[1;31mImportError\u001b[0m                               Traceback (most recent call last)",
      "Cell \u001b[1;32mIn[2], line 1\u001b[0m\n\u001b[1;32m----> 1\u001b[0m \u001b[38;5;28;01mfrom\u001b[39;00m \u001b[38;5;21;01mtidyzoning\u001b[39;00m \u001b[38;5;28;01mimport\u001b[39;00m custom_formula\n",
      "\u001b[1;31mImportError\u001b[0m: cannot import name 'custom_formula' from 'tidyzoning' (c:\\Users\\Admin\\anaconda3\\envs\\houpu_py\\lib\\site-packages\\tidyzoning\\__init__.py)"
     ]
    }
   ],
   "source": [
    "from tidyzoning import custom_formula"
   ]
  },
  {
   "cell_type": "code",
   "execution_count": 3,
   "metadata": {},
   "outputs": [
    {
     "ename": "ModuleNotFoundError",
     "evalue": "No module named 'tidyzoning.custom_formula'",
     "output_type": "error",
     "traceback": [
      "\u001b[1;31m---------------------------------------------------------------------------\u001b[0m",
      "\u001b[1;31mModuleNotFoundError\u001b[0m                       Traceback (most recent call last)",
      "Cell \u001b[1;32mIn[3], line 1\u001b[0m\n\u001b[1;32m----> 1\u001b[0m \u001b[38;5;28;01mfrom\u001b[39;00m \u001b[38;5;21;01mtidyzoning\u001b[39;00m\u001b[38;5;21;01m.\u001b[39;00m\u001b[38;5;21;01mcustom_formula\u001b[39;00m \u001b[38;5;28;01mimport\u001b[39;00m custom_formula\n",
      "\u001b[1;31mModuleNotFoundError\u001b[0m: No module named 'tidyzoning.custom_formula'"
     ]
    }
   ],
   "source": [
    "from tidyzoning.custom_formula import custom_formula"
   ]
  },
  {
   "cell_type": "code",
   "execution_count": 7,
   "metadata": {},
   "outputs": [
    {
     "ename": "ImportError",
     "evalue": "cannot import name 'custom_formula' from 'tidyzoning' (c:\\Users\\Admin\\anaconda3\\envs\\houpu_py\\lib\\site-packages\\tidyzoning\\__init__.py)",
     "output_type": "error",
     "traceback": [
      "\u001b[1;31m---------------------------------------------------------------------------\u001b[0m",
      "\u001b[1;31mImportError\u001b[0m                               Traceback (most recent call last)",
      "Cell \u001b[1;32mIn[7], line 1\u001b[0m\n\u001b[1;32m----> 1\u001b[0m \u001b[38;5;28;01mfrom\u001b[39;00m \u001b[38;5;21;01mtidyzoning\u001b[39;00m \u001b[38;5;28;01mimport\u001b[39;00m custom_formula\n",
      "\u001b[1;31mImportError\u001b[0m: cannot import name 'custom_formula' from 'tidyzoning' (c:\\Users\\Admin\\anaconda3\\envs\\houpu_py\\lib\\site-packages\\tidyzoning\\__init__.py)"
     ]
    }
   ],
   "source": [
    "from tidyzoning import custom_formula"
   ]
  },
  {
   "cell_type": "code",
   "execution_count": null,
   "metadata": {},
   "outputs": [
    {
     "ename": "ImportError",
     "evalue": "cannot import name 'custom_formula' from 'tidyzoning' (c:\\Users\\Admin\\anaconda3\\envs\\houpu_py\\lib\\site-packages\\tidyzoning\\__init__.py)",
     "output_type": "error",
     "traceback": [
      "\u001b[1;31m---------------------------------------------------------------------------\u001b[0m",
      "\u001b[1;31mImportError\u001b[0m                               Traceback (most recent call last)",
      "Cell \u001b[1;32mIn[6], line 1\u001b[0m\n\u001b[1;32m----> 1\u001b[0m \u001b[38;5;28;01mfrom\u001b[39;00m \u001b[38;5;21;01mtidyzoning\u001b[39;00m \u001b[38;5;28;01mimport\u001b[39;00m custom_formula\n",
      "\u001b[1;31mImportError\u001b[0m: cannot import name 'custom_formula' from 'tidyzoning' (c:\\Users\\Admin\\anaconda3\\envs\\houpu_py\\lib\\site-packages\\tidyzoning\\__init__.py)"
     ]
    }
   ],
   "source": []
  },
  {
   "cell_type": "code",
   "execution_count": 2,
   "metadata": {},
   "outputs": [
    {
     "ename": "ImportError",
     "evalue": "cannot import name 'custom_formula' from 'tidyzoning' (c:\\Users\\Admin\\anaconda3\\envs\\houpu_py\\lib\\site-packages\\tidyzoning\\__init__.py)",
     "output_type": "error",
     "traceback": [
      "\u001b[1;31m---------------------------------------------------------------------------\u001b[0m",
      "\u001b[1;31mImportError\u001b[0m                               Traceback (most recent call last)",
      "Cell \u001b[1;32mIn[2], line 1\u001b[0m\n\u001b[1;32m----> 1\u001b[0m \u001b[38;5;28;01mfrom\u001b[39;00m \u001b[38;5;21;01mtidyzoning\u001b[39;00m \u001b[38;5;28;01mimport\u001b[39;00m custom_formula\n",
      "\u001b[1;31mImportError\u001b[0m: cannot import name 'custom_formula' from 'tidyzoning' (c:\\Users\\Admin\\anaconda3\\envs\\houpu_py\\lib\\site-packages\\tidyzoning\\__init__.py)"
     ]
    }
   ],
   "source": [
    "from tidyzoning import custom_formula"
   ]
  },
  {
   "cell_type": "code",
   "execution_count": null,
   "metadata": {},
   "outputs": [],
   "source": []
  }
 ],
 "metadata": {
  "kernelspec": {
   "display_name": "houpu_py",
   "language": "python",
   "name": "python3"
  },
  "language_info": {
   "codemirror_mode": {
    "name": "ipython",
    "version": 3
   },
   "file_extension": ".py",
   "mimetype": "text/x-python",
   "name": "python",
   "nbconvert_exporter": "python",
   "pygments_lexer": "ipython3",
   "version": "3.9.18"
  }
 },
 "nbformat": 4,
 "nbformat_minor": 2
}
