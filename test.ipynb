{
 "cells": [
  {
   "cell_type": "code",
   "execution_count": 23,
   "metadata": {},
   "outputs": [
    {
     "name": "stdout",
     "output_type": "stream",
     "text": [
      "Found existing installation: tidyzoning 0.1.0\n",
      "Uninstalling tidyzoning-0.1.0:\n",
      "  Successfully uninstalled tidyzoning-0.1.0\n",
      "Collecting git+https://github.com/HOUPU1993/tidyzoning.git\n",
      "  Cloning https://github.com/HOUPU1993/tidyzoning.git to c:\\users\\admin\\appdata\\local\\temp\\pip-req-build-5f7m519d\n",
      "  Resolved https://github.com/HOUPU1993/tidyzoning.git to commit 502a318d30b52d180d6dbfe65e4b7264dcce6531\n",
      "  Preparing metadata (setup.py): started\n",
      "  Preparing metadata (setup.py): finished with status 'done'\n",
      "Building wheels for collected packages: tidyzoning\n",
      "  Building wheel for tidyzoning (setup.py): started\n",
      "  Building wheel for tidyzoning (setup.py): finished with status 'done'\n",
      "  Created wheel for tidyzoning: filename=tidyzoning-0.1.0-py3-none-any.whl size=3079 sha256=dbb9f201d4dd5ae9b173d4357a9851be8f5ab4ddfb387d020b42e287bcc1f611\n",
      "  Stored in directory: C:\\Users\\Admin\\AppData\\Local\\Temp\\pip-ephem-wheel-cache-pookr3hb\\wheels\\f4\\29\\51\\e431eb95e0bf6589310375ce483daada9c916a6f65f3b65a8f\n",
      "Successfully built tidyzoning\n",
      "Installing collected packages: tidyzoning\n",
      "Successfully installed tidyzoning-0.1.0\n"
     ]
    },
    {
     "name": "stderr",
     "output_type": "stream",
     "text": [
      "  Running command git clone --filter=blob:none --quiet https://github.com/HOUPU1993/tidyzoning.git 'C:\\Users\\Admin\\AppData\\Local\\Temp\\pip-req-build-5f7m519d'\n"
     ]
    }
   ],
   "source": [
    "# !pip uninstall tidyzoning -y\n",
    "# !pip install git+https://github.com/HOUPU1993/tidyzoning.git"
   ]
  },
  {
   "cell_type": "code",
   "execution_count": 1,
   "metadata": {},
   "outputs": [],
   "source": [
    "import geopandas as gpd\n",
    "import pandas as pd\n",
    "import numpy as np\n",
    "import matplotlib.pyplot as plt\n",
    "import seaborn as sns\n",
    "\n",
    "from shapely.geometry import Point\n",
    "from shapely.geometry import box\n",
    "\n",
    "# input my libraries\n",
    "from tidyzoning import find_district_idx"
   ]
  },
  {
   "cell_type": "code",
   "execution_count": 2,
   "metadata": {},
   "outputs": [],
   "source": [
    "tidybuilding = gpd.read_file(r\"C:/Users\\Admin/Desktop/zoning_data/Test_Data/Tidybuildings/tidybuilding_2family.geojson\")\n",
    "tidyparcel = gpd.read_file(r\"C:/Users/Admin/Desktop/zoning_data/Test_Data/Test_Parcels/testparcel_100per_correct.geojson\")\n",
    "tidyzoning = gpd.read_file(r\"C:/Users\\Admin/Desktop/zoning_data/Test_Data//Tidyzoning/tidyzoning_Haltom_City.geojson\")\n",
    "\n",
    "tidyzoning = tidyzoning[tidyzoning['geometry'].notnull()]\n",
    "tidyzoning = tidyzoning.to_crs(tidyparcel.crs)\n",
    "tidybuilding = tidybuilding.to_crs(tidyparcel.crs)"
   ]
  },
  {
   "cell_type": "code",
   "execution_count": 3,
   "metadata": {},
   "outputs": [
    {
     "data": {
      "text/html": [
       "<div>\n",
       "<style scoped>\n",
       "    .dataframe tbody tr th:only-of-type {\n",
       "        vertical-align: middle;\n",
       "    }\n",
       "\n",
       "    .dataframe tbody tr th {\n",
       "        vertical-align: top;\n",
       "    }\n",
       "\n",
       "    .dataframe thead th {\n",
       "        text-align: right;\n",
       "    }\n",
       "</style>\n",
       "<table border=\"1\" class=\"dataframe\">\n",
       "  <thead>\n",
       "    <tr style=\"text-align: right;\">\n",
       "      <th></th>\n",
       "      <th>prop_id</th>\n",
       "      <th>object_id</th>\n",
       "      <th>zoning_id</th>\n",
       "    </tr>\n",
       "  </thead>\n",
       "  <tbody>\n",
       "    <tr>\n",
       "      <th>3</th>\n",
       "      <td>03027805</td>\n",
       "      <td>1000</td>\n",
       "      <td>1.0</td>\n",
       "    </tr>\n",
       "    <tr>\n",
       "      <th>8</th>\n",
       "      <td>03027783</td>\n",
       "      <td>1001</td>\n",
       "      <td>1.0</td>\n",
       "    </tr>\n",
       "    <tr>\n",
       "      <th>10</th>\n",
       "      <td>03027791</td>\n",
       "      <td>1002</td>\n",
       "      <td>1.0</td>\n",
       "    </tr>\n",
       "    <tr>\n",
       "      <th>18</th>\n",
       "      <td>00684619</td>\n",
       "      <td>1003</td>\n",
       "      <td>3.0</td>\n",
       "    </tr>\n",
       "    <tr>\n",
       "      <th>22</th>\n",
       "      <td>06687849</td>\n",
       "      <td>1004</td>\n",
       "      <td>3.0</td>\n",
       "    </tr>\n",
       "    <tr>\n",
       "      <th>...</th>\n",
       "      <td>...</td>\n",
       "      <td>...</td>\n",
       "      <td>...</td>\n",
       "    </tr>\n",
       "    <tr>\n",
       "      <th>75858</th>\n",
       "      <td>03027848</td>\n",
       "      <td>995</td>\n",
       "      <td>1.0</td>\n",
       "    </tr>\n",
       "    <tr>\n",
       "      <th>75863</th>\n",
       "      <td>03027856</td>\n",
       "      <td>996</td>\n",
       "      <td>1.0</td>\n",
       "    </tr>\n",
       "    <tr>\n",
       "      <th>75868</th>\n",
       "      <td>03027821</td>\n",
       "      <td>997</td>\n",
       "      <td>1.0</td>\n",
       "    </tr>\n",
       "    <tr>\n",
       "      <th>75871</th>\n",
       "      <td>04723295</td>\n",
       "      <td>998</td>\n",
       "      <td>1.0</td>\n",
       "    </tr>\n",
       "    <tr>\n",
       "      <th>75876</th>\n",
       "      <td>00381004</td>\n",
       "      <td>999</td>\n",
       "      <td>8.0</td>\n",
       "    </tr>\n",
       "  </tbody>\n",
       "</table>\n",
       "<p>15194 rows × 3 columns</p>\n",
       "</div>"
      ],
      "text/plain": [
       "        prop_id object_id  zoning_id\n",
       "3      03027805      1000        1.0\n",
       "8      03027783      1001        1.0\n",
       "10     03027791      1002        1.0\n",
       "18     00684619      1003        3.0\n",
       "22     06687849      1004        3.0\n",
       "...         ...       ...        ...\n",
       "75858  03027848       995        1.0\n",
       "75863  03027856       996        1.0\n",
       "75868  03027821       997        1.0\n",
       "75871  04723295       998        1.0\n",
       "75876  00381004       999        8.0\n",
       "\n",
       "[15194 rows x 3 columns]"
      ]
     },
     "execution_count": 3,
     "metadata": {},
     "output_type": "execute_result"
    }
   ],
   "source": [
    "find_district_idx_results = find_district_idx(tidyparcel, tidyzoning)\n",
    "find_district_idx_results"
   ]
  },
  {
   "cell_type": "code",
   "execution_count": 6,
   "metadata": {},
   "outputs": [
    {
     "data": {
      "text/html": [
       "<div>\n",
       "<style scoped>\n",
       "    .dataframe tbody tr th:only-of-type {\n",
       "        vertical-align: middle;\n",
       "    }\n",
       "\n",
       "    .dataframe tbody tr th {\n",
       "        vertical-align: top;\n",
       "    }\n",
       "\n",
       "    .dataframe thead th {\n",
       "        text-align: right;\n",
       "    }\n",
       "</style>\n",
       "<table border=\"1\" class=\"dataframe\">\n",
       "  <thead>\n",
       "    <tr style=\"text-align: right;\">\n",
       "      <th></th>\n",
       "      <th>units_3bed</th>\n",
       "      <th>total_floors</th>\n",
       "      <th>max_unit_size</th>\n",
       "      <th>min_unit_size</th>\n",
       "      <th>floor_area</th>\n",
       "      <th>building_height</th>\n",
       "      <th>geometry</th>\n",
       "    </tr>\n",
       "  </thead>\n",
       "  <tbody>\n",
       "    <tr>\n",
       "      <th>0</th>\n",
       "      <td>2.0</td>\n",
       "      <td>3.0</td>\n",
       "      <td>1563.0</td>\n",
       "      <td>1563.0</td>\n",
       "      <td>3126.0</td>\n",
       "      <td>45.0</td>\n",
       "      <td>POLYGON ((-11797996.293 383429.969, -11797986....</td>\n",
       "    </tr>\n",
       "  </tbody>\n",
       "</table>\n",
       "</div>"
      ],
      "text/plain": [
       "   units_3bed  total_floors  max_unit_size  min_unit_size  floor_area  \\\n",
       "0         2.0           3.0         1563.0         1563.0      3126.0   \n",
       "\n",
       "   building_height                                           geometry  \n",
       "0             45.0  POLYGON ((-11797996.293 383429.969, -11797986....  "
      ]
     },
     "execution_count": 6,
     "metadata": {},
     "output_type": "execute_result"
    }
   ],
   "source": [
    "tidybuilding"
   ]
  },
  {
   "cell_type": "code",
   "execution_count": 5,
   "metadata": {},
   "outputs": [
    {
     "name": "stdout",
     "output_type": "stream",
     "text": [
      "<class 'pandas.core.frame.DataFrame'>\n",
      "Index: 15194 entries, 3 to 75876\n",
      "Data columns (total 3 columns):\n",
      " #   Column     Non-Null Count  Dtype  \n",
      "---  ------     --------------  -----  \n",
      " 0   prop_id    15194 non-null  object \n",
      " 1   object_id  15194 non-null  object \n",
      " 2   zoning_id  10709 non-null  float64\n",
      "dtypes: float64(1), object(2)\n",
      "memory usage: 474.8+ KB\n"
     ]
    }
   ],
   "source": [
    "find_district_idx_results.info()"
   ]
  },
  {
   "cell_type": "code",
   "execution_count": 23,
   "metadata": {},
   "outputs": [],
   "source": [
    "tidybuilding = gpd.read_file(r\"C:/Users\\Admin/Desktop/zoning_data/Test_Data/Tidybuildings/tidybuilding_2family.geojson\")"
   ]
  },
  {
   "cell_type": "code",
   "execution_count": 24,
   "metadata": {},
   "outputs": [],
   "source": [
    "import pandas as pd\n",
    "\n",
    "def find_bldg_type(tidybuilding):\n",
    "    # define the interested columns\n",
    "    possible_columns = [\"units_0bed\", \"units_1bed\", \"units_2bed\", \"units_3bed\", \"units_4bed\"]\n",
    "    \n",
    "    # Filter the columns of interest, removing irrelevant columns\n",
    "    available_columns = [col for col in possible_columns if col in tidybuilding.columns]\n",
    "    tidybuilding = tidybuilding[available_columns]\n",
    "    \n",
    "    # calculate the sum of row\n",
    "    row_sum = tidybuilding.sum(axis=1).iloc[0]\n",
    "    \n",
    "    # return the result\n",
    "    if row_sum in [1, 2, 3]:\n",
    "        return f\"{int(row_sum)}_family\"\n",
    "    elif row_sum > 3:\n",
    "        return \"4_family\"\n",
    "    else:\n",
    "        return \"other\""
   ]
  },
  {
   "cell_type": "code",
   "execution_count": null,
   "metadata": {},
   "outputs": [],
   "source": []
  }
 ],
 "metadata": {
  "kernelspec": {
   "display_name": "houpu_py",
   "language": "python",
   "name": "python3"
  },
  "language_info": {
   "codemirror_mode": {
    "name": "ipython",
    "version": 3
   },
   "file_extension": ".py",
   "mimetype": "text/x-python",
   "name": "python",
   "nbconvert_exporter": "python",
   "pygments_lexer": "ipython3",
   "version": "3.9.18"
  }
 },
 "nbformat": 4,
 "nbformat_minor": 2
}
