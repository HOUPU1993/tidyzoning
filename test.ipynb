{
 "cells": [
  {
   "cell_type": "code",
   "execution_count": 2,
   "metadata": {},
   "outputs": [
    {
     "name": "stdout",
     "output_type": "stream",
     "text": [
      "Found existing installation: tidyzoning 0.1.0\n",
      "Uninstalling tidyzoning-0.1.0:\n",
      "  Successfully uninstalled tidyzoning-0.1.0\n",
      "Collecting git+https://github.com/HOUPU1993/tidyzoning.git\n",
      "  Cloning https://github.com/HOUPU1993/tidyzoning.git to c:\\users\\admin\\appdata\\local\\temp\\pip-req-build-7vq_8h1q\n",
      "  Resolved https://github.com/HOUPU1993/tidyzoning.git to commit a6d54bc3941d77afb53c62e1502c5a3ef550ea7e\n",
      "  Preparing metadata (setup.py): started\n",
      "  Preparing metadata (setup.py): finished with status 'done'\n",
      "Building wheels for collected packages: tidyzoning\n",
      "  Building wheel for tidyzoning (setup.py): started\n",
      "  Building wheel for tidyzoning (setup.py): finished with status 'done'\n",
      "  Created wheel for tidyzoning: filename=tidyzoning-0.1.0-py3-none-any.whl size=4392 sha256=484d550f1c69a212970a47a73e5c7ad3190eb2efc7362344e22cb18c2b860c6d\n",
      "  Stored in directory: C:\\Users\\Admin\\AppData\\Local\\Temp\\pip-ephem-wheel-cache-gwwiq0o5\\wheels\\f4\\29\\51\\e431eb95e0bf6589310375ce483daada9c916a6f65f3b65a8f\n",
      "Successfully built tidyzoning\n",
      "Installing collected packages: tidyzoning\n",
      "Successfully installed tidyzoning-0.1.0\n"
     ]
    },
    {
     "name": "stderr",
     "output_type": "stream",
     "text": [
      "  Running command git clone --filter=blob:none --quiet https://github.com/HOUPU1993/tidyzoning.git 'C:\\Users\\Admin\\AppData\\Local\\Temp\\pip-req-build-7vq_8h1q'\n"
     ]
    }
   ],
   "source": [
    "# !pip uninstall tidyzoning -y\n",
    "# !pip install git+https://github.com/HOUPU1993/tidyzoning.git"
   ]
  },
  {
   "cell_type": "code",
   "execution_count": 7,
   "metadata": {},
   "outputs": [],
   "source": [
    "import geopandas as gpd\n",
    "import pandas as pd\n",
    "import numpy as np\n",
    "import matplotlib.pyplot as plt\n",
    "import seaborn as sns\n",
    "\n",
    "import json\n",
    "\n",
    "from shapely.geometry import Point\n",
    "from shapely.geometry import box\n",
    "\n",
    "# input my libraries\n",
    "from tidyzoning import find_district_idx\n",
    "from tidyzoning import find_bldg_type\n",
    "from tidyzoning import check_land_use"
   ]
  },
  {
   "cell_type": "code",
   "execution_count": 5,
   "metadata": {},
   "outputs": [],
   "source": [
    "tidybuilding = gpd.read_file(r\"C:/Users\\Admin/Desktop/zoning_data/Test_Data/Tidybuildings/tidybuilding_2family.geojson\")\n",
    "tidyparcel = gpd.read_file(r\"C:/Users/Admin/Desktop/zoning_data/Test_Data/Test_Parcels/testparcel_100per_correct.geojson\")\n",
    "tidyzoning = gpd.read_file(r\"C:/Users\\Admin/Desktop/zoning_data/Test_Data//Tidyzoning/tidyzoning_Haltom_City.geojson\")\n",
    "\n",
    "tidyzoning = tidyzoning.to_crs(tidyparcel.crs)\n",
    "tidybuilding = tidybuilding.to_crs(tidyparcel.crs)"
   ]
  },
  {
   "cell_type": "markdown",
   "metadata": {},
   "source": [
    "#### The Case Study to use find_district_idx function"
   ]
  },
  {
   "cell_type": "code",
   "execution_count": 5,
   "metadata": {},
   "outputs": [
    {
     "data": {
      "text/html": [
       "<div>\n",
       "<style scoped>\n",
       "    .dataframe tbody tr th:only-of-type {\n",
       "        vertical-align: middle;\n",
       "    }\n",
       "\n",
       "    .dataframe tbody tr th {\n",
       "        vertical-align: top;\n",
       "    }\n",
       "\n",
       "    .dataframe thead th {\n",
       "        text-align: right;\n",
       "    }\n",
       "</style>\n",
       "<table border=\"1\" class=\"dataframe\">\n",
       "  <thead>\n",
       "    <tr style=\"text-align: right;\">\n",
       "      <th></th>\n",
       "      <th>prop_id</th>\n",
       "      <th>object_id</th>\n",
       "      <th>zoning_id</th>\n",
       "    </tr>\n",
       "  </thead>\n",
       "  <tbody>\n",
       "    <tr>\n",
       "      <th>3</th>\n",
       "      <td>03027805</td>\n",
       "      <td>1000</td>\n",
       "      <td>1.0</td>\n",
       "    </tr>\n",
       "    <tr>\n",
       "      <th>8</th>\n",
       "      <td>03027783</td>\n",
       "      <td>1001</td>\n",
       "      <td>1.0</td>\n",
       "    </tr>\n",
       "    <tr>\n",
       "      <th>10</th>\n",
       "      <td>03027791</td>\n",
       "      <td>1002</td>\n",
       "      <td>1.0</td>\n",
       "    </tr>\n",
       "    <tr>\n",
       "      <th>18</th>\n",
       "      <td>00684619</td>\n",
       "      <td>1003</td>\n",
       "      <td>3.0</td>\n",
       "    </tr>\n",
       "    <tr>\n",
       "      <th>22</th>\n",
       "      <td>06687849</td>\n",
       "      <td>1004</td>\n",
       "      <td>3.0</td>\n",
       "    </tr>\n",
       "    <tr>\n",
       "      <th>...</th>\n",
       "      <td>...</td>\n",
       "      <td>...</td>\n",
       "      <td>...</td>\n",
       "    </tr>\n",
       "    <tr>\n",
       "      <th>75858</th>\n",
       "      <td>03027848</td>\n",
       "      <td>995</td>\n",
       "      <td>1.0</td>\n",
       "    </tr>\n",
       "    <tr>\n",
       "      <th>75863</th>\n",
       "      <td>03027856</td>\n",
       "      <td>996</td>\n",
       "      <td>1.0</td>\n",
       "    </tr>\n",
       "    <tr>\n",
       "      <th>75868</th>\n",
       "      <td>03027821</td>\n",
       "      <td>997</td>\n",
       "      <td>1.0</td>\n",
       "    </tr>\n",
       "    <tr>\n",
       "      <th>75871</th>\n",
       "      <td>04723295</td>\n",
       "      <td>998</td>\n",
       "      <td>1.0</td>\n",
       "    </tr>\n",
       "    <tr>\n",
       "      <th>75876</th>\n",
       "      <td>00381004</td>\n",
       "      <td>999</td>\n",
       "      <td>8.0</td>\n",
       "    </tr>\n",
       "  </tbody>\n",
       "</table>\n",
       "<p>15194 rows × 3 columns</p>\n",
       "</div>"
      ],
      "text/plain": [
       "        prop_id object_id  zoning_id\n",
       "3      03027805      1000        1.0\n",
       "8      03027783      1001        1.0\n",
       "10     03027791      1002        1.0\n",
       "18     00684619      1003        3.0\n",
       "22     06687849      1004        3.0\n",
       "...         ...       ...        ...\n",
       "75858  03027848       995        1.0\n",
       "75863  03027856       996        1.0\n",
       "75868  03027821       997        1.0\n",
       "75871  04723295       998        1.0\n",
       "75876  00381004       999        8.0\n",
       "\n",
       "[15194 rows x 3 columns]"
      ]
     },
     "execution_count": 5,
     "metadata": {},
     "output_type": "execute_result"
    }
   ],
   "source": [
    "find_district_idx_results = find_district_idx(tidyparcel, tidyzoning)\n",
    "find_district_idx_results"
   ]
  },
  {
   "cell_type": "markdown",
   "metadata": {},
   "source": [
    "#### The Case Study to use find_bldg_type_results function"
   ]
  },
  {
   "cell_type": "code",
   "execution_count": 6,
   "metadata": {},
   "outputs": [
    {
     "data": {
      "text/plain": [
       "'2_family'"
      ]
     },
     "execution_count": 6,
     "metadata": {},
     "output_type": "execute_result"
    }
   ],
   "source": [
    "find_bldg_type_results = find_bldg_type(tidybuilding)\n",
    "find_bldg_type_results"
   ]
  },
  {
   "cell_type": "markdown",
   "metadata": {},
   "source": [
    "#### The Case Study to use check_land_use function"
   ]
  },
  {
   "cell_type": "code",
   "execution_count": 8,
   "metadata": {},
   "outputs": [
    {
     "ename": "NameError",
     "evalue": "name 'find_bldg_type' is not defined",
     "output_type": "error",
     "traceback": [
      "\u001b[1;31m---------------------------------------------------------------------------\u001b[0m",
      "\u001b[1;31mNameError\u001b[0m                                 Traceback (most recent call last)",
      "Cell \u001b[1;32mIn[8], line 1\u001b[0m\n\u001b[1;32m----> 1\u001b[0m result_df \u001b[38;5;241m=\u001b[39m \u001b[43mcheck_land_use\u001b[49m\u001b[43m(\u001b[49m\u001b[43mtidybuilding\u001b[49m\u001b[43m,\u001b[49m\u001b[43m \u001b[49m\u001b[43mtidyzoning\u001b[49m\u001b[43m)\u001b[49m\n\u001b[0;32m      2\u001b[0m result_df\n",
      "File \u001b[1;32mc:\\Users\\Admin\\anaconda3\\envs\\houpu_py\\lib\\site-packages\\tidyzoning\\check_function.py:29\u001b[0m, in \u001b[0;36mcheck_land_use\u001b[1;34m(tidybuilding, tidyzoning)\u001b[0m\n\u001b[0;32m     26\u001b[0m     \u001b[38;5;28;01mreturn\u001b[39;00m bldg_type \u001b[38;5;129;01min\u001b[39;00m uses_value\n\u001b[0;32m     28\u001b[0m \u001b[38;5;66;03m# Compute the building type\u001b[39;00m\n\u001b[1;32m---> 29\u001b[0m bldg_type \u001b[38;5;241m=\u001b[39m \u001b[43mfind_bldg_type\u001b[49m(tidybuilding)\n\u001b[0;32m     30\u001b[0m \u001b[38;5;66;03m# Apply the check function to the dist_info column\u001b[39;00m\n\u001b[0;32m     31\u001b[0m tidyzoning[\u001b[38;5;124m\"\u001b[39m\u001b[38;5;124mallowed\u001b[39m\u001b[38;5;124m\"\u001b[39m] \u001b[38;5;241m=\u001b[39m tidyzoning[\u001b[38;5;124m\"\u001b[39m\u001b[38;5;124mdist_info\u001b[39m\u001b[38;5;124m\"\u001b[39m]\u001b[38;5;241m.\u001b[39mapply(\u001b[38;5;28;01mlambda\u001b[39;00m x: check_land_use_single(x, bldg_type))\n",
      "\u001b[1;31mNameError\u001b[0m: name 'find_bldg_type' is not defined"
     ]
    }
   ],
   "source": [
    "result_df = check_land_use(tidybuilding, tidyzoning)\n",
    "result_df"
   ]
  },
  {
   "cell_type": "code",
   "execution_count": null,
   "metadata": {},
   "outputs": [],
   "source": []
  }
 ],
 "metadata": {
  "kernelspec": {
   "display_name": "houpu_py",
   "language": "python",
   "name": "python3"
  },
  "language_info": {
   "codemirror_mode": {
    "name": "ipython",
    "version": 3
   },
   "file_extension": ".py",
   "mimetype": "text/x-python",
   "name": "python",
   "nbconvert_exporter": "python",
   "pygments_lexer": "ipython3",
   "version": "3.9.18"
  }
 },
 "nbformat": 4,
 "nbformat_minor": 2
}
