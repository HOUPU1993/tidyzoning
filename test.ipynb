{
 "cells": [
  {
   "cell_type": "code",
   "execution_count": 1,
   "metadata": {},
   "outputs": [
    {
     "name": "stdout",
     "output_type": "stream",
     "text": [
      "Collecting git+https://github.com/HOUPU1993/tidyzoning.git\n",
      "  Cloning https://github.com/HOUPU1993/tidyzoning.git to c:\\users\\admin\\appdata\\local\\temp\\pip-req-build-tfacdejx\n",
      "  Resolved https://github.com/HOUPU1993/tidyzoning.git to commit 83c89410163f9246b747db2899be3999c01cd08a\n",
      "  Preparing metadata (setup.py): started\n",
      "  Preparing metadata (setup.py): finished with status 'done'\n",
      "Building wheels for collected packages: tidyzoning\n",
      "  Building wheel for tidyzoning (setup.py): started\n",
      "  Building wheel for tidyzoning (setup.py): finished with status 'done'\n",
      "  Created wheel for tidyzoning: filename=tidyzoning-0.1.0-py3-none-any.whl size=2470 sha256=acb5fb8af0acb1967bad550b94da9369df1556997987647f2925560a9b6a3ac6\n",
      "  Stored in directory: C:\\Users\\Admin\\AppData\\Local\\Temp\\pip-ephem-wheel-cache-z2b8zu4d\\wheels\\f4\\29\\51\\e431eb95e0bf6589310375ce483daada9c916a6f65f3b65a8f\n",
      "Successfully built tidyzoning\n",
      "Installing collected packages: tidyzoning\n",
      "Successfully installed tidyzoning-0.1.0\n",
      "Note: you may need to restart the kernel to use updated packages.\n"
     ]
    },
    {
     "name": "stderr",
     "output_type": "stream",
     "text": [
      "  Running command git clone --filter=blob:none --quiet https://github.com/HOUPU1993/tidyzoning.git 'C:\\Users\\Admin\\AppData\\Local\\Temp\\pip-req-build-tfacdejx'\n"
     ]
    }
   ],
   "source": [
    "pip install git+https://github.com/HOUPU1993/tidyzoning.git"
   ]
  },
  {
   "cell_type": "code",
   "execution_count": 1,
   "metadata": {},
   "outputs": [],
   "source": [
    "import tidyzoning"
   ]
  },
  {
   "cell_type": "code",
   "execution_count": null,
   "metadata": {},
   "outputs": [
    {
     "ename": "TypeError",
     "evalue": "'module' object is not callable",
     "output_type": "error",
     "traceback": [
      "\u001b[1;31m---------------------------------------------------------------------------\u001b[0m",
      "\u001b[1;31mTypeError\u001b[0m                                 Traceback (most recent call last)",
      "Cell \u001b[1;32mIn[9], line 1\u001b[0m\n\u001b[1;32m----> 1\u001b[0m \u001b[43mtidyzoning\u001b[49m\u001b[38;5;241;43m.\u001b[39;49m\u001b[43mhello_word\u001b[49m\u001b[43m(\u001b[49m\u001b[43m)\u001b[49m\n",
      "\u001b[1;31mTypeError\u001b[0m: 'module' object is not callable"
     ]
    }
   ],
   "source": []
  },
  {
   "cell_type": "code",
   "execution_count": null,
   "metadata": {},
   "outputs": [
    {
     "ename": "NameError",
     "evalue": "name 'hello_world' is not defined",
     "output_type": "error",
     "traceback": [
      "\u001b[1;31m---------------------------------------------------------------------------\u001b[0m",
      "\u001b[1;31mNameError\u001b[0m                                 Traceback (most recent call last)",
      "Cell \u001b[1;32mIn[3], line 1\u001b[0m\n\u001b[1;32m----> 1\u001b[0m \u001b[43mhello_world\u001b[49m()\n",
      "\u001b[1;31mNameError\u001b[0m: name 'hello_world' is not defined"
     ]
    }
   ],
   "source": [
    "hello_world()"
   ]
  },
  {
   "cell_type": "code",
   "execution_count": null,
   "metadata": {},
   "outputs": [],
   "source": []
  }
 ],
 "metadata": {
  "kernelspec": {
   "display_name": "houpu_py",
   "language": "python",
   "name": "python3"
  },
  "language_info": {
   "codemirror_mode": {
    "name": "ipython",
    "version": 3
   },
   "file_extension": ".py",
   "mimetype": "text/x-python",
   "name": "python",
   "nbconvert_exporter": "python",
   "pygments_lexer": "ipython3",
   "version": "3.9.18"
  }
 },
 "nbformat": 4,
 "nbformat_minor": 2
}
